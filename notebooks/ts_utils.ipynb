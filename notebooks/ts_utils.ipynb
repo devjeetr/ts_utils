{
 "cells": [
  {
   "cell_type": "code",
   "execution_count": 1,
   "metadata": {},
   "outputs": [],
   "source": [
    "import sys\n",
    "sys.path.append(\"../\")\n",
    "from ts_utils.iter import iternodes, iternodes_with_parent\n",
    "from ts_utils.core import sexp, hash_node\n",
    "from ts_utils.parsing import parse\n",
    "from functools import partial\n",
    "\n",
    "with open(\"../ts_utils/iter.py\") as f:\n",
    "    source = f.read()\n",
    "tree = parse(source, \"python\")\n"
   ]
  },
  {
   "cell_type": "code",
   "execution_count": 3,
   "metadata": {},
   "outputs": [
    {
     "name": "stdout",
     "output_type": "stream",
     "text": [
      "460 µs ± 12.6 µs per loop (mean ± std. dev. of 7 runs, 1000 loops each)\n"
     ]
    }
   ],
   "source": [
    "from ts_utils.custom_tree import SyntaxNode\n",
    "\n",
    "%timeit tuple(map(hash_node, iternodes(tree.walk())))\n"
   ]
  },
  {
   "cell_type": "code",
   "execution_count": 5,
   "metadata": {},
   "outputs": [
    {
     "name": "stdout",
     "output_type": "stream",
     "text": [
      "1.16 ms ± 19.5 µs per loop (mean ± std. dev. of 7 runs, 1000 loops each)\n"
     ]
    }
   ],
   "source": [
    "# node = SyntaxNode.from_ts(tree.walk(), source, named_only=True)\n",
    "def fn(cursor):\n",
    "    nodes_by_id = {}\n",
    "    for node, parent in iternodes_with_parent(cursor):\n",
    "        if parent:\n",
    "            parent_hash = hash_node(parent)\n",
    "            nodes_by_id[hash_node(node)] = node\n",
    "\n",
    "            nodes_by_id[hash_node(node)] = node\n",
    "%timeit fn(tree.walk())"
   ]
  },
  {
   "cell_type": "code",
   "execution_count": 12,
   "metadata": {},
   "outputs": [
    {
     "data": {
      "text/plain": [
       "'/home/devjeetroy/Development/ts_utils/notebooks'"
      ]
     },
     "execution_count": 12,
     "metadata": {},
     "output_type": "execute_result"
    }
   ],
   "source": [
    "pwd"
   ]
  },
  {
   "cell_type": "code",
   "execution_count": null,
   "metadata": {},
   "outputs": [],
   "source": []
  }
 ],
 "metadata": {
  "interpreter": {
   "hash": "30c884d05c086c6671ece6f81f8d098b73e2a3404eb0e13d5c97897dd56d5e38"
  },
  "kernelspec": {
   "display_name": "Python 3.10.0 64-bit (conda)",
   "language": "python",
   "name": "python3"
  },
  "language_info": {
   "codemirror_mode": {
    "name": "ipython",
    "version": 3
   },
   "file_extension": ".py",
   "mimetype": "text/x-python",
   "name": "python",
   "nbconvert_exporter": "python",
   "pygments_lexer": "ipython3",
   "version": "3.9.7"
  },
  "orig_nbformat": 4
 },
 "nbformat": 4,
 "nbformat_minor": 2
}
