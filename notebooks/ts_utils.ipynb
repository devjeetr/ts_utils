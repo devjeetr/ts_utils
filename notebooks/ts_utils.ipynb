{
 "cells": [
  {
   "cell_type": "code",
   "execution_count": 1,
   "metadata": {},
   "outputs": [
    {
     "name": "stderr",
     "output_type": "stream",
     "text": [
      "2023-02-27 12:49:44.808 | DEBUG    | ts_utils.parsing:load_grammar:103 - Loading grammar for language='python'\n"
     ]
    }
   ],
   "source": [
    "import sys\n",
    "sys.path.append(\"..\")\n",
    "from ts_utils.core import sexp \n",
    "from ts_utils.parsing import parse\n",
    "from functools import partial\n",
    "\n",
    "with open(\"../ts_utils/iter.py\") as f:\n",
    "    source = f.read()\n",
    "tree = parse(source, \"python\")\n"
   ]
  },
  {
   "cell_type": "code",
   "execution_count": 2,
   "metadata": {},
   "outputs": [],
   "source": [
    "n = tree.root_node.children[0].children[0]"
   ]
  },
  {
   "cell_type": "code",
   "execution_count": 10,
   "metadata": {},
   "outputs": [
    {
     "name": "stderr",
     "output_type": "stream",
     "text": [
      "2023-02-27 13:01:15.514 | DEBUG    | ts_utils.parsing:load_grammar:103 - Loading grammar for language='python'\n"
     ]
    },
    {
     "name": "stdout",
     "output_type": "stream",
     "text": [
      "(module\n",
      " (for_statement\n",
      "  left: (identifier 'i')\n",
      "  right: (call\n",
      "          function: (identifier 'range')\n",
      "          arguments: (argument_list (integer)))\n",
      "  body: (block\n",
      "         (expression_statement\n",
      "          (call\n",
      "           function: (identifier 'print')\n",
      "           arguments: (argument_list (identifier 'i')))))))\n"
     ]
    }
   ],
   "source": [
    "source = \"\"\"\n",
    "for i in range(20):\n",
    "    print(i)\n",
    "\n",
    "\"\"\"\n",
    "\n",
    "def custom_node_repr(node):\n",
    "    if node.type == \"identifier\":\n",
    "        return f\"{node.type} '{node.text.decode()}'\"\n",
    "    return node.type\n",
    "    \n",
    "tree = parse(source, \"python\")\n",
    "print(sexp(tree, node_to_str=custom_node_repr))"
   ]
  },
  {
   "cell_type": "code",
   "execution_count": 7,
   "metadata": {},
   "outputs": [
    {
     "data": {
      "text/plain": [
       "True"
      ]
     },
     "execution_count": 7,
     "metadata": {},
     "output_type": "execute_result"
    }
   ],
   "source": [
    "import tree_sitter\n",
    "\n",
    "tree_sitter.Language.build_library(\n",
    "    \"./language_lib.so\",\n",
    "    [\"/Users/devjeetroy/.cache/tree-sitter-grammars/tree-sitter-python\"]\n",
    ")"
   ]
  },
  {
   "cell_type": "code",
   "execution_count": null,
   "metadata": {},
   "outputs": [],
   "source": []
  }
 ],
 "metadata": {
  "kernelspec": {
   "display_name": ".venv",
   "language": "python",
   "name": "python3"
  },
  "language_info": {
   "codemirror_mode": {
    "name": "ipython",
    "version": 3
   },
   "file_extension": ".py",
   "mimetype": "text/x-python",
   "name": "python",
   "nbconvert_exporter": "python",
   "pygments_lexer": "ipython3",
   "version": "3.11.2"
  },
  "orig_nbformat": 4,
  "vscode": {
   "interpreter": {
    "hash": "0090c88a01d6a20cba2c33a888ab8caac8c193388234c62267816bbc31a79da1"
   }
  }
 },
 "nbformat": 4,
 "nbformat_minor": 2
}
